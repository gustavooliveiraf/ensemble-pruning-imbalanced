{
 "cells": [
  {
   "cell_type": "code",
   "execution_count": 145,
   "metadata": {},
   "outputs": [],
   "source": [
    "import pandas as pd\n",
    "import numpy as np\n",
    "from sklearn.ensemble import BaggingClassifier\n",
    "from imblearn.metrics import geometric_mean_score\n",
    "from sklearn.model_selection import StratifiedKFold\n",
    "import prune\n",
    "from sklearn.metrics import roc_auc_score\n",
    "from imblearn.ensemble import RUSBoostClassifier\n",
    "from sklearn.preprocessing import LabelEncoder\n",
    "from imblearn.ensemble import EasyEnsembleClassifier"
   ]
  },
  {
   "cell_type": "code",
   "execution_count": 150,
   "metadata": {},
   "outputs": [],
   "source": [
    "name = 'data/ecoli1.dat'\n",
    "data = np.genfromtxt(fname = name, comments='@', delimiter=',', autostrip=True)\n",
    "X = data[:,:-1]\n",
    "data = pd.read_csv(name, comment='@', header = None, delimiter=',', delim_whitespace=True)\n",
    "y = data.iloc[:,-1].values"
   ]
  },
  {
   "cell_type": "code",
   "execution_count": 151,
   "metadata": {},
   "outputs": [],
   "source": [
    "enc = LabelEncoder()\n",
    "y = enc.fit_transform(y)"
   ]
  },
  {
   "cell_type": "code",
   "execution_count": 154,
   "metadata": {},
   "outputs": [],
   "source": [
    "bagging = EasyEnsembleClassifier(n_estimators= 30)"
   ]
  },
  {
   "cell_type": "code",
   "execution_count": 155,
   "metadata": {
    "scrolled": true
   },
   "outputs": [
    {
     "name": "stdout",
     "output_type": "stream",
     "text": [
      "[[0.84841252 0.83717951]\n",
      " [0.86559201 0.85557676]]\n"
     ]
    }
   ],
   "source": [
    "metrics = np.zeros((2,2))\n",
    "skf = StratifiedKFold(n_splits=5)\n",
    "for train_index, test_index in skf.split(X, y):\n",
    "    X_train, X_test = X[train_index], X[test_index]\n",
    "    y_train, y_test = y[train_index], y[test_index]\n",
    "    bagging.fit(X_train, y_train)\n",
    "    metrics[0,:] += np.array([roc_auc_score(y_test, bagging.predict(X_test)), geometric_mean_score(y_test, bagging.predict(X_test))]) \n",
    "    bagging.estimators_ = prune.reduce_error_GM(bagging, X_train, y_train)\n",
    "    metrics[1,:] += np.array([roc_auc_score(y_test, bagging.predict(X_test)), geometric_mean_score(y_test, bagging.predict(X_test))]) \n",
    "metrics /= skf.n_splits\n",
    "print(metrics)"
   ]
  },
  {
   "cell_type": "code",
   "execution_count": null,
   "metadata": {},
   "outputs": [],
   "source": []
  }
 ],
 "metadata": {
  "kernelspec": {
   "display_name": "Python 3",
   "language": "python",
   "name": "python3"
  },
  "language_info": {
   "codemirror_mode": {
    "name": "ipython",
    "version": 3
   },
   "file_extension": ".py",
   "mimetype": "text/x-python",
   "name": "python",
   "nbconvert_exporter": "python",
   "pygments_lexer": "ipython3",
   "version": "3.6.5"
  }
 },
 "nbformat": 4,
 "nbformat_minor": 2
}
